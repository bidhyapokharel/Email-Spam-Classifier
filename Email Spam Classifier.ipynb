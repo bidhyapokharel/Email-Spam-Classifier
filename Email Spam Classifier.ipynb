{
 "cells": [
  {
   "cell_type": "markdown",
   "id": "b4e3da3a",
   "metadata": {},
   "source": [
    "\n",
    "# Spam email classifier\n",
    "In this project, I build a spam email classifier that can tell whether a given email is a spam email or not based on the email’s content.\n",
    "\n",
    "There four main parts:\n",
    "- Clean the data\n",
    "- build feature vectors\n",
    "- Use Naive Bayes Classifier, SVM(linear kernel) and Logistic Regression to training the data and make predictions\n",
    "- Compare these models and discuss"
   ]
  },
  {
   "cell_type": "markdown",
   "id": "40d91015",
   "metadata": {},
   "source": [
    "# 1. Data Cleaning"
   ]
  },
  {
   "cell_type": "code",
   "execution_count": 1,
   "id": "c47ea98d",
   "metadata": {},
   "outputs": [],
   "source": [
    "import pandas as pd\n",
    "import numpy as np\n",
    "import os\n",
    "import email\n",
    "import email.policy\n",
    "import random\n",
    "import matplotlib.pyplot as plt"
   ]
  },
  {
   "cell_type": "code",
   "execution_count": null,
   "id": "defeb48f",
   "metadata": {},
   "outputs": [],
   "source": [
    "# Get spam and ham emails data\n",
    "# Source is https://www.kaggle.com/veleon/ham-and-spam-dataset\n",
    "\n"
   ]
  }
 ],
 "metadata": {
  "kernelspec": {
   "display_name": "Python 3",
   "language": "python",
   "name": "python3"
  },
  "language_info": {
   "codemirror_mode": {
    "name": "ipython",
    "version": 3
   },
   "file_extension": ".py",
   "mimetype": "text/x-python",
   "name": "python",
   "nbconvert_exporter": "python",
   "pygments_lexer": "ipython3",
   "version": "3.8.5"
  }
 },
 "nbformat": 4,
 "nbformat_minor": 5
}
